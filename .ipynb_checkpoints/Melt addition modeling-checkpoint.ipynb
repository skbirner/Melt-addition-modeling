{
 "cells": [
  {
   "cell_type": "code",
   "execution_count": 2,
   "metadata": {
    "collapsed": true
   },
   "outputs": [],
   "source": [
    "import matplotlib\n",
    "import matplotlib.pyplot as plt\n",
    "import numpy as np\n",
    "from pylab import *\n",
    "import pandas as pd\n",
    "from __future__ import print_function\n",
    "from ipywidgets import *\n",
    "import ipywidgets as widgets"
   ]
  },
  {
   "cell_type": "code",
   "execution_count": 3,
   "metadata": {
    "collapsed": true
   },
   "outputs": [],
   "source": [
    "%matplotlib inline"
   ]
  },
  {
   "cell_type": "code",
   "execution_count": 4,
   "metadata": {
    "collapsed": true
   },
   "outputs": [],
   "source": [
    "# REE order for plots\n",
    "elements = array([1, 2, 3, 4, 6, 7, 8, 9, 10, 11, 12, 14])\n",
    "el_names = ['La', 'Ce', 'Pr', 'Nd', 'Sm', 'Eu', 'Gd', 'Tb', 'Dy', 'Ho', 'Er', 'Yb']\n",
    "chon = array([0.2347, 0.6032, 0.0891, 0.4524, 0.1471, 0.056, 0.1966, 0.0363, 0.2427, 0.0566, 0.1589, 0.1625])"
   ]
  },
  {
   "cell_type": "code",
   "execution_count": 6,
   "metadata": {
    "collapsed": false
   },
   "outputs": [],
   "source": [
    "# Load file with Fractional Melting Output, from reemodel_v5.m\n",
    "xl = pd.ExcelFile('FractionalMelting.xlsx')\n",
    "\n",
    "# Load sheet as numpy array\n",
    "REE_data = xl.parse('Sheet1').as_matrix()\n",
    "\n",
    "# Variables from input file\n",
    "F = REE_data[:,0] # degree of melting\n",
    "X_ol = REE_data[:,1] # modal olivine\n",
    "X_opx = REE_data[:,2] # modal opx\n",
    "X_cpx = REE_data[:,3] # modal cpx\n",
    "X_sp = REE_data[:,4] # modal sp\n",
    "REEs = REE_data[:,5:18] # bulk, normalized to chrondrite\n",
    "\n",
    "X_ol+X_opx+X_cpx+"
   ]
  },
  {
   "cell_type": "code",
   "execution_count": 18,
   "metadata": {
    "collapsed": false
   },
   "outputs": [
    {
     "data": {
      "image/png": "[encoded data removed]",
      "text/plain": [
       "<matplotlib.figure.Figure at 0x10f301978>"
      ]
     },
     "metadata": {},
     "output_type": "display_data"
    }
   ],
   "source": [
    "x = arange(10)\n",
    "def test_f(k):\n",
    "    y = k*x\n",
    "    fig = plt.figure()\n",
    "    axes = fig.add_axes([0.1, 0.1, 0.8, 0.8]) # left, bottom, width, height (range 0 to 1)\n",
    "    axes.plot(x,y)\n",
    "    axes.set_ylim([0, 10])\n",
    "\n",
    "interact(test_f, k=(0,10,1))"
   ]
  },
  {
   "cell_type": "code",
   "execution_count": null,
   "metadata": {
    "collapsed": true
   },
   "outputs": [],
   "source": []
  },
  {
   "cell_type": "code",
   "execution_count": null,
   "metadata": {
    "collapsed": true
   },
   "outputs": [],
   "source": []
  }
 ],
 "metadata": {
  "kernelspec": {
   "display_name": "Python 3",
   "language": "python",
   "name": "python3"
  },
  "language_info": {
   "codemirror_mode": {
    "name": "ipython",
    "version": 3
   },
   "file_extension": ".py",
   "mimetype": "text/x-python",
   "name": "python",
   "nbconvert_exporter": "python",
   "pygments_lexer": "ipython3",
   "version": "3.6.0"
  }
 },
 "nbformat": 4,
 "nbformat_minor": 2
}
