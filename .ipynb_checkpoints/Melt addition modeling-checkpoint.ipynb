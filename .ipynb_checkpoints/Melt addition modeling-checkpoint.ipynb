{
 "cells": [
  {
   "cell_type": "markdown",
   "metadata": {},
   "source": [
    "# Melt addition modeling"
   ]
  },
  {
   "cell_type": "code",
   "execution_count": 112,
   "metadata": {
    "collapsed": false
   },
   "outputs": [
    {
     "data": {
      "text/html": [
       "<script>\n",
       "  function code_toggle() {\n",
       "    if (code_shown){\n",
       "      $('div.input').hide('500');\n",
       "      $('#toggleButton').val('Show Code')\n",
       "    } else {\n",
       "      $('div.input').show('500');\n",
       "      $('#toggleButton').val('Hide Code')\n",
       "    }\n",
       "    code_shown = !code_shown\n",
       "  }\n",
       "\n",
       "  $( document ).ready(function(){\n",
       "    code_shown=false;\n",
       "    $('div.input').hide()\n",
       "  });\n",
       "</script>\n",
       "<form action=\"javascript:code_toggle()\"><input type=\"submit\" id=\"toggleButton\" value=\"Show Code\"></form>"
      ],
      "text/plain": [
       "<IPython.core.display.HTML object>"
      ]
     },
     "execution_count": 112,
     "metadata": {},
     "output_type": "execute_result"
    }
   ],
   "source": [
    "# Allows code to be hidden, for more polished viewing\n",
    "\n",
    "from IPython.display import HTML\n",
    "\n",
    "HTML('''<script>\n",
    "  function code_toggle() {\n",
    "    if (code_shown){\n",
    "      $('div.input').hide('500');\n",
    "      $('#toggleButton').val('Show Code')\n",
    "    } else {\n",
    "      $('div.input').show('500');\n",
    "      $('#toggleButton').val('Hide Code')\n",
    "    }\n",
    "    code_shown = !code_shown\n",
    "  }\n",
    "\n",
    "  $( document ).ready(function(){\n",
    "    code_shown=false;\n",
    "    $('div.input').hide()\n",
    "  });\n",
    "</script>\n",
    "<form action=\"javascript:code_toggle()\"><input type=\"submit\" id=\"toggleButton\" value=\"Show Code\"></form>''')"
   ]
  },
  {
   "cell_type": "code",
   "execution_count": 106,
   "metadata": {
    "collapsed": true
   },
   "outputs": [],
   "source": [
    "import matplotlib\n",
    "import matplotlib.pyplot as plt\n",
    "import numpy as np\n",
    "from pylab import *\n",
    "import pandas as pd\n",
    "from __future__ import print_function\n",
    "from ipywidgets import *\n",
    "import ipywidgets as widgets"
   ]
  },
  {
   "cell_type": "code",
   "execution_count": 3,
   "metadata": {
    "collapsed": true
   },
   "outputs": [],
   "source": [
    "%matplotlib inline"
   ]
  },
  {
   "cell_type": "code",
   "execution_count": 4,
   "metadata": {
    "collapsed": true
   },
   "outputs": [],
   "source": [
    "# REE order for plots\n",
    "elements = array([1, 2, 3, 4, 6, 7, 8, 9, 10, 11, 12, 14])\n",
    "el_names = ['La', 'Ce', 'Pr', 'Nd', 'Sm', 'Eu', 'Gd', 'Tb', 'Dy', 'Ho', 'Er', 'Yb']\n",
    "chon = array([0.2347, 0.6032, 0.0891, 0.4524, 0.1471, 0.056, 0.1966, 0.0363, 0.2427, 0.0566, 0.1589, 0.1625])"
   ]
  },
  {
   "cell_type": "code",
   "execution_count": 67,
   "metadata": {
    "collapsed": false
   },
   "outputs": [],
   "source": [
    "# Partition coefficients\n",
    "\n",
    "# ol, opx from JMW's Liang REE text file\n",
    "# cpx updated to be Sun and Liang 2012\n",
    "# sp from Kelemen 2003\n",
    "\n",
    "# D_ol/liq, D_opx/liq, D_cpx/liq, D_sp/liq\n",
    "partition_coeffs = array(\n",
    "[[0.0000023,0.00074,0.0550,0.000600],\n",
    "[0.0000073,0.0016,0.0876,0.000600],\n",
    "[0.000021,0.0032,0.1318,0.0006],\n",
    "[0.000058,0.0060,0.1878,0.000600],\n",
    "[0.00029,0.0158,0.3083,0.001000],\n",
    "[0.00055,0.0227,0.3638,0.001000],\n",
    "[0.0010,0.0315,0.4169,0.0006],\n",
    "[0.0017,0.0422,0.4645,0.0006],\n",
    "[0.0029,0.0549,0.5034,0.002000],\n",
    "[0.0045,0.0680,0.5294,0.0023],\n",
    "[0.0066,0.0808,0.5437,0.003000],\n",
    "[0.0121,0.1036,0.5453,0.005000]])"
   ]
  },
  {
   "cell_type": "code",
   "execution_count": null,
   "metadata": {
    "collapsed": true
   },
   "outputs": [],
   "source": [
    "# Pattern to match"
   ]
  },
  {
   "cell_type": "code",
   "execution_count": 28,
   "metadata": {
    "collapsed": false
   },
   "outputs": [],
   "source": [
    "# Melts to add\n",
    "\n",
    "#REEs, un-normalized\n",
    "SWIR_Oblique_basalt = array([8.10,20.84,2.89,14.44,3.97,1.36,4.95,0.81,5.25,1.10,3.16,2.93]);"
   ]
  },
  {
   "cell_type": "code",
   "execution_count": 42,
   "metadata": {
    "collapsed": false
   },
   "outputs": [],
   "source": [
    "# Load file with Fractional Melting Output, from reemodel_v5.m\n",
    "xl = pd.ExcelFile('FractionalMelting.xlsx')\n",
    "\n",
    "# Load sheet as numpy array\n",
    "REE_data = xl.parse('Sheet1').as_matrix()\n",
    "\n",
    "# Variables from input file\n",
    "F = REE_data[:,0] # degree of melting\n",
    "modes = REE_data[:,1:5] # modal ol,opx,cp,sp ( modes normalized to 1)\n",
    "REEs = REE_data[:,5:18] # bulk REEs, normalized to chrondrite"
   ]
  },
  {
   "cell_type": "code",
   "execution_count": 54,
   "metadata": {
    "collapsed": false
   },
   "outputs": [],
   "source": [
    "# Crystallization modes for the crystallizing melt\n",
    "xtal_modes = array([0.7, 0, 0.3, 0,]) #ol opx cpx sp\n",
    "\n",
    "# Melt fractions of interest\n",
    "melt_F1 = arange(0,0.000001,0.0000001) # 0% to 0.0001%; 10 steps\n",
    "melt_F2 = arange(0.000001,0.00001,0.000001) # 0.0001% to 0.001%; 10 steps\n",
    "melt_F3 = arange(0.00001,0.0001,0.00001) # 0.001% to 0.01%; 10 steps\n",
    "melt_F4 = arange(0.0001,0.001,0.0001) # 0.01% to 0.1%; 10 steps\n",
    "melt_F5 = arange(0.001,0.01,0.001) # 0.1% to 1%; 10 steps\n",
    "melt_F6 = arange(0.01,0.1,0.01) # 1% to 10%; 10 steps\n",
    "melt_F7 = arange(0.1,1,0.1) # 10% to 100%; 10 steps\n",
    "melt_F = np,concatenate((melt_F1,melt_F2,melt_F3,melt_F4,melt_F5,melt_F6,melt_F7),axis=0)"
   ]
  },
  {
   "cell_type": "markdown",
   "metadata": {},
   "source": [
    "For this melt addition model, an initial peridotite residue of DMM composition first undergoes fractional melting, followed by addition of a percentage of a specific melt to the system. The melt is then assumed to crystallize into this system. The initial phases contained within the residue equilibrate their trace elements with the added material such that each mineral has a single composition and partition coefficients are internally consistent between phases, according to the equations:\n",
    "\n",
    "$$C_{i}^{bulk} = (1-m)C_{i}^{bulk,residue}+mC_{i}^{bulk,melt}$$\n",
    "$$X_{j}=(1-m)X_{j}^{residue}+mX_{j}^{crystallized\\_melt}$$\n",
    "$$C_{i}^{cpx}=\\frac{(D_{i}^{cpx/melt}*C_{i}^{bulk})}{(\\sum_{j} D_{i}^{j/melt}X_{j})}$$\n",
    "\n"
   ]
  },
  {
   "cell_type": "code",
   "execution_count": 114,
   "metadata": {
    "collapsed": false,
    "scrolled": true
   },
   "outputs": [
    {
     "data": {
      "image/png": "[encoded data removed]",
      "text/plain": [
       "<matplotlib.figure.Figure at 0x11b42fdd8>"
      ]
     },
     "metadata": {},
     "output_type": "display_data"
    }
   ],
   "source": [
    "def REE_plot(F,m):\n",
    "    \n",
    "    index = np.int(F*10)\n",
    "    \n",
    "    DMM = REEs[0,:]*chon\n",
    "    \n",
    "    init_residue = REEs[index]*chon\n",
    "    added_melt = SWIR_Oblique_basalt\n",
    "    \n",
    "    # calculate bulk REEs for solid+melt\n",
    "    bulk = init_residue*(1-m) + added_melt*m\n",
    "    \n",
    "    # calculate new modes for solid+melt\n",
    "    new_modes = modes[index]*(1-m) + xtal_modes*m\n",
    "\n",
    "    # calculate cpx for solid-melt hybrid from bulk\n",
    "    cpx = zeros(len(elements))\n",
    "    cpx_0 = zeros(len(elements))\n",
    "    for k in range(len(elements)):\n",
    "        cpx[k] = partition_coeffs[k,2]*bulk[k]/sum(partition_coeffs[k,:]*new_modes)\n",
    "        cpx_0[k] = partition_coeffs[k,2]*DMM[k]/sum(partition_coeffs[k,:]*modes[0,:])\n",
    "\n",
    "    cpx_norm = cpx/chon\n",
    "    cpx_0_norm = cpx_0/chon\n",
    "    \n",
    "    fig = plt.figure()\n",
    "    axes = fig.add_axes([0.1, 0.1, 0.8, 0.8]) # left, bottom, width, height (range 0 to 1)\n",
    "    \n",
    "    axes.plot(elements,cpx_norm,'r',marker='o')\n",
    "    axes.plot(elements, cpx_0_norm, 'k--')\n",
    "    axes.plot(elements, SWIR_Oblique_basalt/chon,'b-')\n",
    "    \n",
    "    axes.set_yscale('log')   \n",
    "    axes.set_ylim([10e-6, 10e1])\n",
    "    axes.set_xlim([1, 14])\n",
    "    axes.set_xticks(elements)\n",
    "    axes.set_xticklabels(el_names, fontsize=10)\n",
    "    axes.set_yticks(logspace(-5,2,8))\n",
    "    axes.set_ylabel('Conc/Chon')\n",
    "    axes.set_title('SWIR REEs')\n",
    "\n",
    "interact(REE_plot,\n",
    "         F=FloatSlider(min=0, max=18, step=0.1, continuous_update=False,readout=True,readout_format='.1f',disabled=False), \n",
    "         m=FloatSlider(min=0.000, max=0.010, step=0.001, continuous_update=False,readout=True,readout_format='.3f',disabled=False))\n"
   ]
  },
  {
   "cell_type": "code",
   "execution_count": null,
   "metadata": {
    "collapsed": true
   },
   "outputs": [],
   "source": []
  },
  {
   "cell_type": "code",
   "execution_count": null,
   "metadata": {
    "collapsed": true
   },
   "outputs": [],
   "source": []
  }
 ],
 "metadata": {
  "kernelspec": {
   "display_name": "Python 3",
   "language": "python",
   "name": "python3"
  },
  "language_info": {
   "codemirror_mode": {
    "name": "ipython",
    "version": 3
   },
   "file_extension": ".py",
   "mimetype": "text/x-python",
   "name": "python",
   "nbconvert_exporter": "python",
   "pygments_lexer": "ipython3",
   "version": "3.6.0"
  },
  "widgets": {
   "state": {
    "6b6e7a4a542841dc92b603bd166b3208": {
     "views": [
      {
       "cell_index": 11
      }
     ]
    }
   },
   "version": "1.2.0"
  }
 },
 "nbformat": 4,
 "nbformat_minor": 2
}
