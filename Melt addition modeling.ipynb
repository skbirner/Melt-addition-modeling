{
 "cells": [
  {
   "cell_type": "code",
   "execution_count": 43,
   "metadata": {
    "collapsed": false,
    "deletable": true,
    "editable": true
   },
   "outputs": [
    {
     "data": {
      "text/html": [
       "<script>\n",
       "  function code_toggle() {\n",
       "    if (code_shown){\n",
       "      $('div.input').hide('500');\n",
       "      $('#toggleButton').val('Show Code')\n",
       "    } else {\n",
       "      $('div.input').show('500');\n",
       "      $('#toggleButton').val('Hide Code')\n",
       "    }\n",
       "    code_shown = !code_shown\n",
       "  }\n",
       "\n",
       "  $( document ).ready(function(){\n",
       "    code_shown=false;\n",
       "    $('div.input').hide()\n",
       "  });\n",
       "</script>\n",
       "<form action=\"javascript:code_toggle()\"><input type=\"submit\" id=\"toggleButton\" value=\"Show Code\"></form>"
      ],
      "text/plain": [
       "<IPython.core.display.HTML object>"
      ]
     },
     "execution_count": 43,
     "metadata": {},
     "output_type": "execute_result"
    }
   ],
   "source": [
    "# Allows code to be hidden, for more polished viewing\n",
    "\n",
    "from IPython.display import HTML\n",
    "\n",
    "HTML('''<script>\n",
    "  function code_toggle() {\n",
    "    if (code_shown){\n",
    "      $('div.input').hide('500');\n",
    "      $('#toggleButton').val('Show Code')\n",
    "    } else {\n",
    "      $('div.input').show('500');\n",
    "      $('#toggleButton').val('Hide Code')\n",
    "    }\n",
    "    code_shown = !code_shown\n",
    "  }\n",
    "\n",
    "  $( document ).ready(function(){\n",
    "    code_shown=false;\n",
    "    $('div.input').hide()\n",
    "  });\n",
    "</script>\n",
    "<form action=\"javascript:code_toggle()\"><input type=\"submit\" id=\"toggleButton\" value=\"Show Code\"></form>''')"
   ]
  },
  {
   "cell_type": "code",
   "execution_count": 44,
   "metadata": {
    "collapsed": true,
    "deletable": true,
    "editable": true
   },
   "outputs": [],
   "source": [
    "import matplotlib\n",
    "import matplotlib.pyplot as plt\n",
    "import numpy as np\n",
    "from pylab import *\n",
    "import pandas as pd\n",
    "from __future__ import print_function\n",
    "from ipywidgets import *\n",
    "import ipywidgets as widgets"
   ]
  },
  {
   "cell_type": "code",
   "execution_count": 45,
   "metadata": {
    "collapsed": true,
    "deletable": true,
    "editable": true
   },
   "outputs": [],
   "source": [
    "#%matplotlib inline"
   ]
  },
  {
   "cell_type": "code",
   "execution_count": 46,
   "metadata": {
    "collapsed": true,
    "deletable": true,
    "editable": true
   },
   "outputs": [],
   "source": [
    "# REE order for plots\n",
    "elements = array([1, 2, 3, 4, 6, 7, 8, 9, 10, 11, 12, 14])\n",
    "el_names = ['La', 'Ce', 'Pr', 'Nd', 'Sm', 'Eu', 'Gd', 'Tb', 'Dy', 'Ho', 'Er', 'Yb']\n",
    "chon = array([0.2347, 0.6032, 0.0891, 0.4524, 0.1471, 0.056, 0.1966, 0.0363, 0.2427, 0.0566, 0.1589, 0.1625])"
   ]
  },
  {
   "cell_type": "code",
   "execution_count": 47,
   "metadata": {
    "collapsed": false,
    "deletable": true,
    "editable": true
   },
   "outputs": [],
   "source": [
    "# Partition coefficients\n",
    "\n",
    "# ol, opx from JMW's Liang REE text file\n",
    "# cpx updated to be Sun and Liang 2012\n",
    "# sp from Kelemen 2003\n",
    "\n",
    "# D_ol/liq, D_opx/liq, D_cpx/liq, D_sp/liq\n",
    "partition_coeffs = array(\n",
    "[[0.0000023,0.00074,0.0550,0.000600],\n",
    "[0.0000073,0.0016,0.0876,0.000600],\n",
    "[0.000021,0.0032,0.1318,0.0006],\n",
    "[0.000058,0.0060,0.1878,0.000600],\n",
    "[0.00029,0.0158,0.3083,0.001000],\n",
    "[0.00055,0.0227,0.3638,0.001000],\n",
    "[0.0010,0.0315,0.4169,0.0006],\n",
    "[0.0017,0.0422,0.4645,0.0006],\n",
    "[0.0029,0.0549,0.5034,0.002000],\n",
    "[0.0045,0.0680,0.5294,0.0023],\n",
    "[0.0066,0.0808,0.5437,0.003000],\n",
    "[0.0121,0.1036,0.5453,0.005000]])"
   ]
  },
  {
   "cell_type": "code",
   "execution_count": 48,
   "metadata": {
    "collapsed": true,
    "deletable": true,
    "editable": true
   },
   "outputs": [],
   "source": [
    "# Pattern to match"
   ]
  },
  {
   "cell_type": "code",
   "execution_count": 49,
   "metadata": {
    "collapsed": false,
    "deletable": true,
    "editable": true
   },
   "outputs": [],
   "source": [
    "# Melts to add\n",
    "\n",
    "#REEs, un-normalized\n",
    "SWIR_Oblique_basalt = array([8.10,20.84,2.89,14.44,3.97,1.36,4.95,0.81,5.25,1.10,3.16,2.93]);"
   ]
  },
  {
   "cell_type": "code",
   "execution_count": 50,
   "metadata": {
    "collapsed": false,
    "deletable": true,
    "editable": true
   },
   "outputs": [],
   "source": [
    "# Load file with Fractional Melting Output, from reemodel_v5.m\n",
    "xl = pd.ExcelFile('FractionalMelting.xlsx')\n",
    "\n",
    "# Load sheet as numpy array\n",
    "REE_data = xl.parse('Sheet1').as_matrix()\n",
    "\n",
    "# Variables from input file\n",
    "F = REE_data[:,0] # degree of melting\n",
    "modes = REE_data[:,1:5] # modal ol,opx,cp,sp ( modes normalized to 1)\n",
    "REEs = REE_data[:,5:18] # bulk REEs, normalized to chrondrite"
   ]
  },
  {
   "cell_type": "code",
   "execution_count": 51,
   "metadata": {
    "collapsed": false,
    "deletable": true,
    "editable": true
   },
   "outputs": [],
   "source": [
    "# Crystallization modes for the crystallizing melt\n",
    "xtal_modes = array([0.7, 0, 0.3, 0,]) #ol opx cpx sp\n",
    "\n",
    "# Melt fractions of interest\n",
    "melt_F1 = arange(0,0.000001,0.0000001) # 0% to 0.0001%; 10 steps\n",
    "melt_F2 = arange(0.000001,0.00001,0.000001) # 0.0001% to 0.001%; 10 steps\n",
    "melt_F3 = arange(0.00001,0.0001,0.00001) # 0.001% to 0.01%; 10 steps\n",
    "melt_F4 = arange(0.0001,0.001,0.0001) # 0.01% to 0.1%; 10 steps\n",
    "melt_F5 = arange(0.001,0.01,0.001) # 0.1% to 1%; 10 steps\n",
    "melt_F6 = arange(0.01,0.1,0.01) # 1% to 10%; 10 steps\n",
    "melt_F7 = arange(0.1,1,0.1) # 10% to 100%; 10 steps\n",
    "melt_F = np,concatenate((melt_F1,melt_F2,melt_F3,melt_F4,melt_F5,melt_F6,melt_F7),axis=0)"
   ]
  },
  {
   "cell_type": "markdown",
   "metadata": {
    "deletable": true,
    "editable": true
   },
   "source": [
    "# Melt addition modeling"
   ]
  },
  {
   "cell_type": "markdown",
   "metadata": {
    "deletable": true,
    "editable": true
   },
   "source": [
    "## Adding melt into a peridotite residue"
   ]
  },
  {
   "cell_type": "markdown",
   "metadata": {
    "deletable": true,
    "editable": true
   },
   "source": [
    "For this melt addition model, an initial peridotite residue of DMM composition first undergoes fractional melting, followed by addition of a percentage of a specific melt to the system. The melt is then assumed to crystallize into this system. The initial phases contained within the residue equilibrate their trace elements with the added material such that each mineral has a single composition and partition coefficients are internally consistent between phases, according to the equations:\n",
    "\n",
    "$$C_{i}^{bulk} = (1-m)C_{i}^{bulk,residue}+mC_{i}^{bulk,melt}$$\n",
    "$$X_{j}=(1-m)X_{j}^{residue}+mX_{j}^{crystallized\\_melt}$$\n",
    "$$C_{i}^{cpx}=\\frac{(D_{i}^{cpx/melt}*C_{i}^{bulk})}{(\\sum_{j} D_{i}^{j/melt}X_{j})}$$\n",
    "\n"
   ]
  },
  {
   "cell_type": "code",
   "execution_count": 52,
   "metadata": {
    "collapsed": false,
    "deletable": true,
    "editable": true,
    "scrolled": true
   },
   "outputs": [
    {
     "data": {
      "application/vnd.jupyter.widget-view+json": {
       "model_id": "2f1343f3806640dd8e7262113135dcb5"
      }
     },
     "metadata": {},
     "output_type": "display_data"
    },
    {
     "data": {
      "text/plain": [
       "<function __main__.REE_plot>"
      ]
     },
     "execution_count": 52,
     "metadata": {},
     "output_type": "execute_result"
    }
   ],
   "source": [
    "def REE_plot(F,m):\n",
    "    \n",
    "    index = np.int(F*10)\n",
    "    \n",
    "    DMM = REEs[0,:]*chon\n",
    "    \n",
    "    init_residue = REEs[index]*chon\n",
    "    added_melt = SWIR_Oblique_basalt\n",
    "    \n",
    "    # calculate bulk REEs for solid+melt\n",
    "    bulk = init_residue*(1-m) + added_melt*m\n",
    "    \n",
    "    # calculate new modes for solid+melt\n",
    "    new_modes = modes[index]*(1-m) + xtal_modes*m\n",
    "\n",
    "    # calculate cpx for solid-melt hybrid from bulk\n",
    "    cpx = zeros(len(elements))\n",
    "    cpx_0 = zeros(len(elements))\n",
    "    for k in range(len(elements)):\n",
    "        cpx[k] = partition_coeffs[k,2]*bulk[k]/sum(partition_coeffs[k,:]*new_modes)\n",
    "        cpx_0[k] = partition_coeffs[k,2]*DMM[k]/sum(partition_coeffs[k,:]*modes[0,:])\n",
    "\n",
    "    cpx_norm = cpx/chon\n",
    "    cpx_0_norm = cpx_0/chon\n",
    "    \n",
    "    fig = plt.figure()\n",
    "    axes = fig.add_axes([0.1, 0.1, 0.8, 0.8]) # left, bottom, width, height (range 0 to 1)\n",
    "    \n",
    "    axes.plot(elements,cpx_norm,'r',marker='o')\n",
    "    axes.plot(elements, cpx_0_norm, 'k--')\n",
    "    axes.plot(elements, SWIR_Oblique_basalt/chon,'b-')\n",
    "    \n",
    "    axes.set_yscale('log')   \n",
    "    axes.set_ylim([10e-6, 10e1])\n",
    "    axes.set_xlim([1, 14])\n",
    "    axes.set_xticks(elements)\n",
    "    axes.set_xticklabels(el_names, fontsize=10)\n",
    "    axes.set_yticks(logspace(-5,2,8))\n",
    "    axes.set_ylabel('Conc/Chon')\n",
    "    axes.set_title('SWIR REEs')\n",
    "    plt.show()\n",
    "\n",
    "interact(REE_plot,\n",
    "         F=FloatSlider(min=0, max=18, step=0.1, continuous_update=False,readout=True,readout_format='.1f',disabled=False), \n",
    "         m=FloatSlider(min=0.000, max=0.010, step=0.001, continuous_update=False,readout=True,readout_format='.3f',disabled=False))\n"
   ]
  },
  {
   "cell_type": "code",
   "execution_count": 53,
   "metadata": {
    "collapsed": false,
    "deletable": true,
    "editable": true
   },
   "outputs": [
    {
     "data": {
      "application/vnd.jupyter.widget-view+json": {
       "model_id": "b454812385f74644b6d1b71cfdb3155d"
      }
     },
     "metadata": {},
     "output_type": "display_data"
    }
   ],
   "source": [
    "widgets.IntSlider(\n",
    "    value=7,\n",
    "    min=0,\n",
    "    max=10,\n",
    "    step=1,\n",
    "    description='Test:',\n",
    "    disabled=False,\n",
    "    continuous_update=False,\n",
    "    orientation='horizontal',\n",
    "    readout=True,\n",
    "    readout_format='i',\n",
    "    slider_color='white'\n",
    ")"
   ]
  },
  {
   "cell_type": "code",
   "execution_count": null,
   "metadata": {
    "collapsed": true,
    "deletable": true,
    "editable": true
   },
   "outputs": [],
   "source": []
  }
 ],
 "metadata": {
  "kernelspec": {
   "display_name": "Python 3",
   "language": "python",
   "name": "python3"
  },
  "language_info": {
   "codemirror_mode": {
    "name": "ipython",
    "version": 3
   },
   "file_extension": ".py",
   "mimetype": "text/x-python",
   "name": "python",
   "nbconvert_exporter": "python",
   "pygments_lexer": "ipython3",
   "version": "3.6.0"
  },
  "widgets": {
   "application/vnd.jupyter.widget-state+json": {
    "state": {
     "00be2f3205854e2fa2e3c035e16e9ec3": {
      "model_module": "jupyter-js-widgets",
      "model_module_version": "~2.1.4",
      "model_name": "LayoutModel",
      "state": {
       "_model_module_version": "~2.1.4",
       "_view_module_version": "~2.1.4"
      }
     },
     "044f8f993088456ab89621fcced927bf": {
      "model_module": "jupyter-js-widgets",
      "model_module_version": "~2.1.4",
      "model_name": "LayoutModel",
      "state": {
       "_model_module_version": "~2.1.4",
       "_view_module_version": "~2.1.4"
      }
     },
     "06b8c2a7d7904779bca1cf1c1555a4ff": {
      "model_module": "jupyter-js-widgets",
      "model_module_version": "~2.1.4",
      "model_name": "LayoutModel",
      "state": {
       "_model_module_version": "~2.1.4",
       "_view_module_version": "~2.1.4"
      }
     },
     "07992f6988134123bfbb23a892a61268": {
      "model_module": "jupyter-js-widgets",
      "model_module_version": "~2.1.4",
      "model_name": "LayoutModel",
      "state": {
       "_model_module_version": "~2.1.4",
       "_view_module_version": "~2.1.4"
      }
     },
     "0a1897f9416645bcb3bcc0b6b9934ee9": {
      "model_module": "jupyter-js-widgets",
      "model_module_version": "~2.1.4",
      "model_name": "FloatSliderModel",
      "state": {
       "_model_module_version": "~2.1.4",
       "_view_module_version": "~2.1.4",
       "continuous_update": false,
       "description": "F",
       "layout": "IPY_MODEL_67666cece7304b82a20da581ef7bc1ba",
       "max": 18,
       "readout_format": ".1f",
       "step": 0.1,
       "value": 10
      }
     },
     "0d657de9b3d14da7966b23e7a0c0addf": {
      "model_module": "jupyter-js-widgets",
      "model_module_version": "~2.1.4",
      "model_name": "LayoutModel",
      "state": {
       "_model_module_version": "~2.1.4",
       "_view_module_version": "~2.1.4"
      }
     },
     "11358486a3294b5e8d082a87e0f8d3d3": {
      "model_module": "jupyter-js-widgets",
      "model_module_version": "~2.1.4",
      "model_name": "OutputModel",
      "state": {
       "_dom_classes": [],
       "_model_module": "jupyter-js-widgets",
       "_model_module_version": "~2.1.4",
       "_view_module": "jupyter-js-widgets",
       "_view_module_version": "~2.1.4",
       "layout": "IPY_MODEL_582c822e8ebd488f9ca62d8c95e0bc26",
       "msg_throttle": 1
      }
     },
     "1b25760f7cfa4957b846684558d7ba1e": {
      "model_module": "jupyter-js-widgets",
      "model_module_version": "~2.1.4",
      "model_name": "FloatSliderModel",
      "state": {
       "_model_module_version": "~2.1.4",
       "_view_module_version": "~2.1.4",
       "continuous_update": false,
       "description": "m",
       "layout": "IPY_MODEL_00be2f3205854e2fa2e3c035e16e9ec3",
       "max": 0.01,
       "readout_format": ".3f",
       "step": 0.001,
       "value": 0.001
      }
     },
     "2788e20805d24576b1a046ecb59330e6": {
      "model_module": "jupyter-js-widgets",
      "model_module_version": "~2.1.4",
      "model_name": "FloatSliderModel",
      "state": {
       "_model_module_version": "~2.1.4",
       "_view_module_version": "~2.1.4",
       "continuous_update": false,
       "description": "m",
       "layout": "IPY_MODEL_66ee4b20da264237a0f20780db0f309c",
       "max": 0.01,
       "readout_format": ".3f",
       "step": 0.001
      }
     },
     "2f1343f3806640dd8e7262113135dcb5": {
      "model_module": "jupyter-js-widgets",
      "model_module_version": "~2.1.4",
      "model_name": "VBoxModel",
      "state": {
       "_dom_classes": [
        "widget-interact"
       ],
       "_model_module_version": "~2.1.4",
       "_view_module_version": "~2.1.4",
       "children": [
        "IPY_MODEL_b26e8b7cc4da4b919ec22b370d7ff044",
        "IPY_MODEL_befb07ec5dae4519b13b961cf53a5800",
        "IPY_MODEL_11358486a3294b5e8d082a87e0f8d3d3"
       ],
       "layout": "IPY_MODEL_044f8f993088456ab89621fcced927bf"
      }
     },
     "31f5eec72d4f42b9b34168b44b329d18": {
      "model_module": "jupyter-js-widgets",
      "model_module_version": "~2.1.4",
      "model_name": "OutputModel",
      "state": {
       "_dom_classes": [],
       "_model_module": "jupyter-js-widgets",
       "_model_module_version": "~2.1.4",
       "_view_module": "jupyter-js-widgets",
       "_view_module_version": "~2.1.4",
       "layout": "IPY_MODEL_9b1dd7bd7eaf4c73a9d21af422ac598c",
       "msg_throttle": 1
      }
     },
     "34449477d39c4b09b7eef6f10460f429": {
      "model_module": "jupyter-js-widgets",
      "model_module_version": "~2.1.4",
      "model_name": "LayoutModel",
      "state": {
       "_model_module_version": "~2.1.4",
       "_view_module_version": "~2.1.4"
      }
     },
     "380b78e5ab2e42e9afd76ce3558a0f97": {
      "model_module": "jupyter-js-widgets",
      "model_module_version": "~2.1.4",
      "model_name": "VBoxModel",
      "state": {
       "_dom_classes": [
        "widget-interact"
       ],
       "_model_module_version": "~2.1.4",
       "_view_module_version": "~2.1.4",
       "children": [
        "IPY_MODEL_77a5b38800ab47f2bb55c7424ed1b97f",
        "IPY_MODEL_3d54a5c7201f44cabb769b2b764a5636",
        "IPY_MODEL_462d688be3a748dc9a255b74a5423a30"
       ],
       "layout": "IPY_MODEL_0d657de9b3d14da7966b23e7a0c0addf"
      }
     },
     "3d54a5c7201f44cabb769b2b764a5636": {
      "model_module": "jupyter-js-widgets",
      "model_module_version": "~2.1.4",
      "model_name": "FloatSliderModel",
      "state": {
       "_model_module_version": "~2.1.4",
       "_view_module_version": "~2.1.4",
       "continuous_update": false,
       "description": "m",
       "layout": "IPY_MODEL_581b9ddeed8e46b3ac292560d2db1e61",
       "max": 0.01,
       "readout_format": ".3f",
       "step": 0.001
      }
     },
     "3d6d01af92cd455688068e470bbfae86": {
      "model_module": "jupyter-js-widgets",
      "model_module_version": "~2.1.4",
      "model_name": "OutputModel",
      "state": {
       "_dom_classes": [],
       "_model_module": "jupyter-js-widgets",
       "_model_module_version": "~2.1.4",
       "_view_module": "jupyter-js-widgets",
       "_view_module_version": "~2.1.4",
       "layout": "IPY_MODEL_06b8c2a7d7904779bca1cf1c1555a4ff",
       "msg_throttle": 1
      }
     },
     "3dc99f6063144f348d10ef965b4361dd": {
      "model_module": "jupyter-js-widgets",
      "model_module_version": "~2.1.4",
      "model_name": "LayoutModel",
      "state": {
       "_model_module_version": "~2.1.4",
       "_view_module_version": "~2.1.4"
      }
     },
     "462d688be3a748dc9a255b74a5423a30": {
      "model_module": "jupyter-js-widgets",
      "model_module_version": "~2.1.4",
      "model_name": "OutputModel",
      "state": {
       "_dom_classes": [],
       "_model_module": "jupyter-js-widgets",
       "_model_module_version": "~2.1.4",
       "_view_module": "jupyter-js-widgets",
       "_view_module_version": "~2.1.4",
       "layout": "IPY_MODEL_abf62d94d75a46e69b6c14d834ef78d3",
       "msg_throttle": 1
      }
     },
     "51cc17f648674a0ebc50c1452b70e558": {
      "model_module": "jupyter-js-widgets",
      "model_module_version": "~2.1.4",
      "model_name": "VBoxModel",
      "state": {
       "_dom_classes": [
        "widget-interact"
       ],
       "_model_module_version": "~2.1.4",
       "_view_module_version": "~2.1.4",
       "children": [
        "IPY_MODEL_0a1897f9416645bcb3bcc0b6b9934ee9",
        "IPY_MODEL_f97f0e9ac1a744a1b59e32d3aa78c6dd",
        "IPY_MODEL_a64a8c4b7e2d4d67a739ec6c1a0e4450"
       ],
       "layout": "IPY_MODEL_8394fdc2e41a49a99d1336d8a80244d8"
      }
     },
     "54876790bcdb4ff9931e41b836054d3d": {
      "model_module": "jupyter-js-widgets",
      "model_module_version": "~2.1.4",
      "model_name": "OutputModel",
      "state": {
       "_dom_classes": [],
       "_model_module": "jupyter-js-widgets",
       "_model_module_version": "~2.1.4",
       "_view_module": "jupyter-js-widgets",
       "_view_module_version": "~2.1.4",
       "layout": "IPY_MODEL_cb9b11367d9e42b3b00cb28e59ef827c",
       "msg_throttle": 1
      }
     },
     "581b9ddeed8e46b3ac292560d2db1e61": {
      "model_module": "jupyter-js-widgets",
      "model_module_version": "~2.1.4",
      "model_name": "LayoutModel",
      "state": {
       "_model_module_version": "~2.1.4",
       "_view_module_version": "~2.1.4"
      }
     },
     "582c822e8ebd488f9ca62d8c95e0bc26": {
      "model_module": "jupyter-js-widgets",
      "model_module_version": "~2.1.4",
      "model_name": "LayoutModel",
      "state": {
       "_model_module_version": "~2.1.4",
       "_view_module_version": "~2.1.4"
      }
     },
     "66ee4b20da264237a0f20780db0f309c": {
      "model_module": "jupyter-js-widgets",
      "model_module_version": "~2.1.4",
      "model_name": "LayoutModel",
      "state": {
       "_model_module_version": "~2.1.4",
       "_view_module_version": "~2.1.4"
      }
     },
     "67666cece7304b82a20da581ef7bc1ba": {
      "model_module": "jupyter-js-widgets",
      "model_module_version": "~2.1.4",
      "model_name": "LayoutModel",
      "state": {
       "_model_module_version": "~2.1.4",
       "_view_module_version": "~2.1.4"
      }
     },
     "6b410d0ef03c47c09a7f1cc805e630e3": {
      "model_module": "jupyter-js-widgets",
      "model_module_version": "~2.1.4",
      "model_name": "LayoutModel",
      "state": {
       "_model_module_version": "~2.1.4",
       "_view_module_version": "~2.1.4"
      }
     },
     "77a5b38800ab47f2bb55c7424ed1b97f": {
      "model_module": "jupyter-js-widgets",
      "model_module_version": "~2.1.4",
      "model_name": "FloatSliderModel",
      "state": {
       "_model_module_version": "~2.1.4",
       "_view_module_version": "~2.1.4",
       "continuous_update": false,
       "description": "F",
       "layout": "IPY_MODEL_34449477d39c4b09b7eef6f10460f429",
       "max": 18,
       "readout_format": ".1f",
       "step": 0.1,
       "value": 10
      }
     },
     "78e9a82bec714141929790afd01448fb": {
      "model_module": "jupyter-js-widgets",
      "model_module_version": "~2.1.4",
      "model_name": "LayoutModel",
      "state": {
       "_model_module_version": "~2.1.4",
       "_view_module_version": "~2.1.4"
      }
     },
     "806ee4bc8b454d0ca96c7b900bce100a": {
      "model_module": "jupyter-js-widgets",
      "model_module_version": "~2.1.4",
      "model_name": "VBoxModel",
      "state": {
       "_dom_classes": [
        "widget-interact"
       ],
       "_model_module_version": "~2.1.4",
       "_view_module_version": "~2.1.4",
       "children": [
        "IPY_MODEL_e431d265b2ce49cba5a8147498189e4a",
        "IPY_MODEL_1b25760f7cfa4957b846684558d7ba1e",
        "IPY_MODEL_54876790bcdb4ff9931e41b836054d3d"
       ],
       "layout": "IPY_MODEL_3dc99f6063144f348d10ef965b4361dd"
      }
     },
     "8311674f40b44e87ba252436b72c377e": {
      "model_module": "jupyter-js-widgets",
      "model_module_version": "~2.1.4",
      "model_name": "LayoutModel",
      "state": {
       "_model_module_version": "~2.1.4",
       "_view_module_version": "~2.1.4"
      }
     },
     "8394fdc2e41a49a99d1336d8a80244d8": {
      "model_module": "jupyter-js-widgets",
      "model_module_version": "~2.1.4",
      "model_name": "LayoutModel",
      "state": {
       "_model_module_version": "~2.1.4",
       "_view_module_version": "~2.1.4"
      }
     },
     "8596a8e3649f45079b1427d0e7382cb5": {
      "model_module": "jupyter-js-widgets",
      "model_module_version": "~2.1.4",
      "model_name": "IntSliderModel",
      "state": {
       "_model_module_version": "~2.1.4",
       "_view_module_version": "~2.1.4",
       "continuous_update": false,
       "description": "Test:",
       "layout": "IPY_MODEL_effdb416337d4f319517f1fabbfa79ea",
       "max": 10,
       "readout_format": "i",
       "style": "IPY_MODEL_d6f63db7d485407bade6b3521dbf010b",
       "value": 2
      }
     },
     "88d247a7193a427c973be3ea4e002eb8": {
      "model_module": "jupyter-js-widgets",
      "model_module_version": "~2.1.4",
      "model_name": "FloatSliderModel",
      "state": {
       "_model_module_version": "~2.1.4",
       "_view_module_version": "~2.1.4",
       "continuous_update": false,
       "description": "F",
       "layout": "IPY_MODEL_bff04042b4b54056a78cc9acdd8b4a27",
       "max": 18,
       "readout_format": ".1f",
       "step": 0.1,
       "value": 10
      }
     },
     "89a31aefcf104a0582e5744dc4cbdee6": {
      "model_module": "jupyter-js-widgets",
      "model_module_version": "~2.1.4",
      "model_name": "VBoxModel",
      "state": {
       "_dom_classes": [
        "widget-interact"
       ],
       "_model_module_version": "~2.1.4",
       "_view_module_version": "~2.1.4",
       "children": [
        "IPY_MODEL_88d247a7193a427c973be3ea4e002eb8",
        "IPY_MODEL_e2d0443348444ca3b38b9822e7ea85b9",
        "IPY_MODEL_3d6d01af92cd455688068e470bbfae86"
       ],
       "layout": "IPY_MODEL_78e9a82bec714141929790afd01448fb"
      }
     },
     "99a98842b5864ccfb6340df774b8c62b": {
      "model_module": "jupyter-js-widgets",
      "model_module_version": "~2.1.4",
      "model_name": "LayoutModel",
      "state": {
       "_model_module_version": "~2.1.4",
       "_view_module_version": "~2.1.4"
      }
     },
     "99d1dcca9a9542a484bdb16fb4e84fbc": {
      "model_module": "jupyter-js-widgets",
      "model_module_version": "~2.1.4",
      "model_name": "SliderStyleModel",
      "state": {
       "_model_module_version": "~2.1.4",
       "_view_module_version": "~2.1.4"
      }
     },
     "9b1dd7bd7eaf4c73a9d21af422ac598c": {
      "model_module": "jupyter-js-widgets",
      "model_module_version": "~2.1.4",
      "model_name": "LayoutModel",
      "state": {
       "_model_module_version": "~2.1.4",
       "_view_module_version": "~2.1.4"
      }
     },
     "a107005bad5f42cd9a633707956be104": {
      "model_module": "jupyter-js-widgets",
      "model_module_version": "~2.1.4",
      "model_name": "LayoutModel",
      "state": {
       "_model_module_version": "~2.1.4",
       "_view_module_version": "~2.1.4"
      }
     },
     "a1094618e9b047c6968291e98b7b1ff8": {
      "model_module": "jupyter-js-widgets",
      "model_module_version": "~2.1.4",
      "model_name": "LayoutModel",
      "state": {
       "_model_module_version": "~2.1.4",
       "_view_module_version": "~2.1.4"
      }
     },
     "a35481b5853f4b3c9b345a06fa6f3cd6": {
      "model_module": "jupyter-js-widgets",
      "model_module_version": "~2.1.4",
      "model_name": "LayoutModel",
      "state": {
       "_model_module_version": "~2.1.4",
       "_view_module_version": "~2.1.4"
      }
     },
     "a64a8c4b7e2d4d67a739ec6c1a0e4450": {
      "model_module": "jupyter-js-widgets",
      "model_module_version": "~2.1.4",
      "model_name": "OutputModel",
      "state": {
       "_dom_classes": [],
       "_model_module": "jupyter-js-widgets",
       "_model_module_version": "~2.1.4",
       "_view_module": "jupyter-js-widgets",
       "_view_module_version": "~2.1.4",
       "layout": "IPY_MODEL_6b410d0ef03c47c09a7f1cc805e630e3",
       "msg_throttle": 1
      }
     },
     "abf62d94d75a46e69b6c14d834ef78d3": {
      "model_module": "jupyter-js-widgets",
      "model_module_version": "~2.1.4",
      "model_name": "LayoutModel",
      "state": {
       "_model_module_version": "~2.1.4",
       "_view_module_version": "~2.1.4"
      }
     },
     "b0230c9434f748d28b94c8034f8e96ca": {
      "model_module": "jupyter-js-widgets",
      "model_module_version": "~2.1.4",
      "model_name": "SliderStyleModel",
      "state": {
       "_model_module_version": "~2.1.4",
       "_view_module_version": "~2.1.4"
      }
     },
     "b26e8b7cc4da4b919ec22b370d7ff044": {
      "model_module": "jupyter-js-widgets",
      "model_module_version": "~2.1.4",
      "model_name": "FloatSliderModel",
      "state": {
       "_model_module_version": "~2.1.4",
       "_view_module_version": "~2.1.4",
       "continuous_update": false,
       "description": "F",
       "layout": "IPY_MODEL_8311674f40b44e87ba252436b72c377e",
       "max": 18,
       "readout_format": ".1f",
       "step": 0.1,
       "value": 9
      }
     },
     "b454812385f74644b6d1b71cfdb3155d": {
      "model_module": "jupyter-js-widgets",
      "model_module_version": "~2.1.4",
      "model_name": "IntSliderModel",
      "state": {
       "_model_module_version": "~2.1.4",
       "_view_module_version": "~2.1.4",
       "continuous_update": false,
       "description": "Test:",
       "layout": "IPY_MODEL_f18fdba902784324a5dab22bf1dc273c",
       "max": 10,
       "readout_format": "i",
       "style": "IPY_MODEL_99d1dcca9a9542a484bdb16fb4e84fbc",
       "value": 8
      }
     },
     "befb07ec5dae4519b13b961cf53a5800": {
      "model_module": "jupyter-js-widgets",
      "model_module_version": "~2.1.4",
      "model_name": "FloatSliderModel",
      "state": {
       "_model_module_version": "~2.1.4",
       "_view_module_version": "~2.1.4",
       "continuous_update": false,
       "description": "m",
       "layout": "IPY_MODEL_fe0c276a4d0f43b6920eb76e8ff1252f",
       "max": 0.01,
       "readout_format": ".3f",
       "step": 0.001,
       "value": 0.001
      }
     },
     "bff04042b4b54056a78cc9acdd8b4a27": {
      "model_module": "jupyter-js-widgets",
      "model_module_version": "~2.1.4",
      "model_name": "LayoutModel",
      "state": {
       "_model_module_version": "~2.1.4",
       "_view_module_version": "~2.1.4"
      }
     },
     "cb3b298cc3b24f37a702b5caa8eed86e": {
      "model_module": "jupyter-js-widgets",
      "model_module_version": "~2.1.4",
      "model_name": "LayoutModel",
      "state": {
       "_model_module_version": "~2.1.4",
       "_view_module_version": "~2.1.4"
      }
     },
     "cb9b11367d9e42b3b00cb28e59ef827c": {
      "model_module": "jupyter-js-widgets",
      "model_module_version": "~2.1.4",
      "model_name": "LayoutModel",
      "state": {
       "_model_module_version": "~2.1.4",
       "_view_module_version": "~2.1.4"
      }
     },
     "d6f63db7d485407bade6b3521dbf010b": {
      "model_module": "jupyter-js-widgets",
      "model_module_version": "~2.1.4",
      "model_name": "SliderStyleModel",
      "state": {
       "_model_module_version": "~2.1.4",
       "_view_module_version": "~2.1.4"
      }
     },
     "e0a083a304a7419cb8d2b321d684c8f9": {
      "model_module": "jupyter-js-widgets",
      "model_module_version": "~2.1.4",
      "model_name": "IntSliderModel",
      "state": {
       "_model_module_version": "~2.1.4",
       "_view_module_version": "~2.1.4",
       "continuous_update": false,
       "description": "Test:",
       "layout": "IPY_MODEL_a35481b5853f4b3c9b345a06fa6f3cd6",
       "max": 10,
       "readout_format": "i",
       "style": "IPY_MODEL_b0230c9434f748d28b94c8034f8e96ca",
       "value": 4
      }
     },
     "e2d0443348444ca3b38b9822e7ea85b9": {
      "model_module": "jupyter-js-widgets",
      "model_module_version": "~2.1.4",
      "model_name": "FloatSliderModel",
      "state": {
       "_model_module_version": "~2.1.4",
       "_view_module_version": "~2.1.4",
       "continuous_update": false,
       "description": "m",
       "layout": "IPY_MODEL_cb3b298cc3b24f37a702b5caa8eed86e",
       "max": 0.01,
       "readout_format": ".3f",
       "step": 0.001
      }
     },
     "e431d265b2ce49cba5a8147498189e4a": {
      "model_module": "jupyter-js-widgets",
      "model_module_version": "~2.1.4",
      "model_name": "FloatSliderModel",
      "state": {
       "_model_module_version": "~2.1.4",
       "_view_module_version": "~2.1.4",
       "continuous_update": false,
       "description": "F",
       "layout": "IPY_MODEL_a107005bad5f42cd9a633707956be104",
       "max": 18,
       "readout_format": ".1f",
       "step": 0.1,
       "value": 10
      }
     },
     "effdb416337d4f319517f1fabbfa79ea": {
      "model_module": "jupyter-js-widgets",
      "model_module_version": "~2.1.4",
      "model_name": "LayoutModel",
      "state": {
       "_model_module_version": "~2.1.4",
       "_view_module_version": "~2.1.4"
      }
     },
     "f18fdba902784324a5dab22bf1dc273c": {
      "model_module": "jupyter-js-widgets",
      "model_module_version": "~2.1.4",
      "model_name": "LayoutModel",
      "state": {
       "_model_module_version": "~2.1.4",
       "_view_module_version": "~2.1.4"
      }
     },
     "f46fbe40e5704a3692020424b56d716e": {
      "model_module": "jupyter-js-widgets",
      "model_module_version": "~2.1.4",
      "model_name": "FloatSliderModel",
      "state": {
       "_model_module_version": "~2.1.4",
       "_view_module_version": "~2.1.4",
       "continuous_update": false,
       "description": "F",
       "layout": "IPY_MODEL_a1094618e9b047c6968291e98b7b1ff8",
       "max": 18,
       "readout_format": ".1f",
       "step": 0.1,
       "value": 18
      }
     },
     "f97f0e9ac1a744a1b59e32d3aa78c6dd": {
      "model_module": "jupyter-js-widgets",
      "model_module_version": "~2.1.4",
      "model_name": "FloatSliderModel",
      "state": {
       "_model_module_version": "~2.1.4",
       "_view_module_version": "~2.1.4",
       "continuous_update": false,
       "description": "m",
       "layout": "IPY_MODEL_07992f6988134123bfbb23a892a61268",
       "max": 0.01,
       "readout_format": ".3f",
       "step": 0.001
      }
     },
     "fa1e73ca814c430ebf34f26bd370a609": {
      "model_module": "jupyter-js-widgets",
      "model_module_version": "~2.1.4",
      "model_name": "VBoxModel",
      "state": {
       "_dom_classes": [
        "widget-interact"
       ],
       "_model_module_version": "~2.1.4",
       "_view_module_version": "~2.1.4",
       "children": [
        "IPY_MODEL_f46fbe40e5704a3692020424b56d716e",
        "IPY_MODEL_2788e20805d24576b1a046ecb59330e6",
        "IPY_MODEL_31f5eec72d4f42b9b34168b44b329d18"
       ],
       "layout": "IPY_MODEL_99a98842b5864ccfb6340df774b8c62b"
      }
     },
     "fe0c276a4d0f43b6920eb76e8ff1252f": {
      "model_module": "jupyter-js-widgets",
      "model_module_version": "~2.1.4",
      "model_name": "LayoutModel",
      "state": {
       "_model_module_version": "~2.1.4",
       "_view_module_version": "~2.1.4"
      }
     }
    },
    "version_major": 1,
    "version_minor": 0
   }
  }
 },
 "nbformat": 4,
 "nbformat_minor": 2
}
