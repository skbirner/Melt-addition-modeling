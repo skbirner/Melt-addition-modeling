{
 "cells": [
  {
   "cell_type": "code",
   "execution_count": 123,
   "metadata": {
    "collapsed": false
   },
   "outputs": [
    {
     "data": {
      "text/html": [
       "<script>\n",
       "  function code_toggle() {\n",
       "    if (code_shown){\n",
       "      $('div.input').hide('500');\n",
       "      $('#toggleButton').val('Show Code')\n",
       "    } else {\n",
       "      $('div.input').show('500');\n",
       "      $('#toggleButton').val('Hide Code')\n",
       "    }\n",
       "    code_shown = !code_shown\n",
       "  }\n",
       "\n",
       "  $( document ).ready(function(){\n",
       "    code_shown=false;\n",
       "    $('div.input').hide()\n",
       "  });\n",
       "</script>\n",
       "<form action=\"javascript:code_toggle()\"><input type=\"submit\" id=\"toggleButton\" value=\"Show Code\"></form>"
      ],
      "text/plain": [
       "<IPython.core.display.HTML object>"
      ]
     },
     "execution_count": 123,
     "metadata": {},
     "output_type": "execute_result"
    }
   ],
   "source": [
    "# Allows code to be hidden, for more polished viewing\n",
    "\n",
    "from IPython.display import HTML\n",
    "\n",
    "HTML('''<script>\n",
    "  function code_toggle() {\n",
    "    if (code_shown){\n",
    "      $('div.input').hide('500');\n",
    "      $('#toggleButton').val('Show Code')\n",
    "    } else {\n",
    "      $('div.input').show('500');\n",
    "      $('#toggleButton').val('Hide Code')\n",
    "    }\n",
    "    code_shown = !code_shown\n",
    "  }\n",
    "\n",
    "  $( document ).ready(function(){\n",
    "    code_shown=false;\n",
    "    $('div.input').hide()\n",
    "  });\n",
    "</script>\n",
    "<form action=\"javascript:code_toggle()\"><input type=\"submit\" id=\"toggleButton\" value=\"Show Code\"></form>''')"
   ]
  },
  {
   "cell_type": "markdown",
   "metadata": {},
   "source": [
    "# REE Plotter"
   ]
  },
  {
   "cell_type": "code",
   "execution_count": 105,
   "metadata": {
    "collapsed": true
   },
   "outputs": [],
   "source": [
    "import matplotlib\n",
    "import matplotlib.pyplot as plt\n",
    "import numpy as np\n",
    "from pylab import *\n",
    "import pandas as pd\n",
    "from ipywidgets import *"
   ]
  },
  {
   "cell_type": "code",
   "execution_count": 106,
   "metadata": {
    "collapsed": true
   },
   "outputs": [],
   "source": [
    "#%matplotlib inline"
   ]
  },
  {
   "cell_type": "code",
   "execution_count": 107,
   "metadata": {
    "collapsed": true
   },
   "outputs": [],
   "source": [
    "# REE order for plots\n",
    "elements = array([1, 2, 3, 4, 6, 7, 8, 9, 10, 11, 12, 14])\n",
    "el_names = ['La', 'Ce', 'Pr', 'Nd', 'Sm', 'Eu', 'Gd', 'Tb', 'Dy', 'Ho', 'Er', 'Yb']\n",
    "chon = array([0.2347, 0.6032, 0.0891, 0.4524, 0.1471, 0.056, 0.1966, 0.0363, 0.2427, 0.0566, 0.1589, 0.1625])"
   ]
  },
  {
   "cell_type": "code",
   "execution_count": 120,
   "metadata": {
    "collapsed": false
   },
   "outputs": [],
   "source": [
    "# Input REEs\n",
    "Hess_Deep = array([  [0.013,0.020,NaN,0.04,0.03,0.02,NaN,NaN,0.14,NaN,0.17,0.23],\n",
    "                [0.005,0.015,NaN,0.03,0.05,0.01,NaN,NaN,0.14,NaN,0.19,0.23],\n",
    "                [0.005,0.010,NaN,0.02,0.02,0.01,NaN,NaN,0.13,NaN,0.17,0.23],\n",
    "                [0.002,0.002,NaN,0.02,0.03,0.01,NaN,NaN,0.12,NaN,0.16,0.22],\n",
    "                [0.120,0.150,NaN,0.14,0.13,0.08,0.22,0.09,0.46,NaN,0.40,0.44],\n",
    "                [0.003,0.010,NaN,0.02,0.01,0.01,NaN,NaN,0.13,NaN,0.17,0.20],\n",
    "                [0.021,0.019,NaN,0.04,0.06,0.02,NaN,NaN,0.14,NaN,0.19,0.22]])\n",
    "\n",
    "Fifteen_20 = array([[0.004,0.008,NaN,0.01,0.01,0.0027,0.06,NaN,0.24,NaN,0.28,0.36],\n",
    "                [0.017,0.023,NaN,0.01,0.03,0.02,0.17,NaN,0.33,NaN,0.25,0.26],\n",
    "                [0.002,0.003,NaN,0.01,0.01,0.004,0.07,NaN,0.28,NaN,0.33,0.41],\n",
    "                [0.015,0.026,NaN,0.02,0.01,0.0013,0.04,NaN,0.23,NaN,0.29,0.34]])\n",
    "\n",
    "Marie_Celeste = array([[0.002,0.007,NaN,0.02,0.04,0.04,0.22,NaN,0.56,NaN,0.47,0.59],\n",
    "                     [0.002,0.007,NaN,0.02,0.04,0.04,0.22,NaN,0.56,NaN,0.47,0.59]])"
   ]
  },
  {
   "cell_type": "code",
   "execution_count": 121,
   "metadata": {
    "collapsed": true
   },
   "outputs": [],
   "source": [
    "Fmelt_model = [[0.38612,1.26582,3.04187,4.59747,7.79593,8.70339,9.52227,10.17618,10.87892,10.57849,10.85744,10.29242],\n",
    "[0.01701,0.19131,0.92098,2.09652,5.18356,6.33452,7.39532,8.28165,9.15881,9.10820,9.48899,9.14125],\n",
    "[0.00047,0.02184,0.23396,0.85329,3.25558,4.41431,5.55294,6.5622,7.54643,7.70223,8.1649,8.01747],\n",
    "[0.00001,0.00171,0.04693,0.29823,1.89587,2.90496,3.98951,5.02252,6.04803,6.36544,6.88891,6.92341],\n",
    "[4.07e-08,0.00008,0.00674,0.08410,0.99402,1.76661,2.69862,3.66813,4.67124,5.10386,5.66562,5.86185],\n",
    "[0,1.54e-06,0.00058,0.01713,0.44598,0.95689,1.67293,2.50576,3.42560,3.92511,4.50091,4.83633],\n",
    "[0,7.17e-09,0.00002,0.00201,0.15494,0.43009,0.90367,1.54393,2.32359,2.83931,3.40255,3.85139],\n",
    "[0,0,1.09e-07,0.00007,0.03265,0.13590,0.37993,0.79407,1.38268,1.86076,2.38145,2.91317],\n",
    "[0,0,0,4.14e-08,0.0016,0.01683,0.08696,0.27322,0.62992,1.01170,1.45429,2.03055]]\n"
   ]
  },
  {
   "cell_type": "code",
   "execution_count": 122,
   "metadata": {
    "collapsed": false
   },
   "outputs": [
    {
     "data": {
      "application/vnd.jupyter.widget-view+json": {
       "model_id": "626facd969ac420ca40a9d01a5d78148"
      }
     },
     "metadata": {},
     "output_type": "display_data"
    },
    {
     "data": {
      "text/plain": [
       "<function __main__.REE_plot>"
      ]
     },
     "execution_count": 122,
     "metadata": {},
     "output_type": "execute_result"
    }
   ],
   "source": [
    "# Make REE figure for each group\n",
    "\n",
    "#REEs = Fifteen_20\n",
    "\n",
    "def REE_plot(i):\n",
    "    \n",
    "    options = [Hess_Deep, Fifteen_20, Marie_Celeste]\n",
    "    REEs = options[i]\n",
    "    \n",
    "    fig = plt.figure()\n",
    "    axes = fig.add_axes([0.1, 0.1, 0.8, 0.8]) # left, bottom, width, height (range 0 to 1)\n",
    "\n",
    "    for i in range(len(Fmelt_model)):\n",
    "        axes.plot(elements, Fmelt_model[i], 'k')\n",
    "\n",
    "    for i in range(len(REEs)):\n",
    "        axes.plot(elements, REEs[i]/chon, 'r', marker='o')\n",
    "\n",
    "    axes.set_yscale('log')   \n",
    "    axes.set_ylim([10e-6, 10e1])\n",
    "    axes.set_xlim([1, 14])\n",
    "    axes.set_xticks(elements)\n",
    "    axes.set_xticklabels(el_names, fontsize=10)\n",
    "    axes.set_yticks(logspace(-5,2,8))\n",
    "    axes.set_ylabel('Conc/Chon')\n",
    "    axes.set_title('REE plotter')\n",
    "    \n",
    "    plt.show()\n",
    "    \n",
    "interact(REE_plot,\n",
    "         i=Dropdown(\n",
    "            options={'Hess Deep': 0, 'Fifteen-Twenty': 1, 'Marie Celeste': 2},\n",
    "            #value=1,\n",
    "            description='Samples:')\n",
    ")\n",
    "       "
   ]
  },
  {
   "cell_type": "code",
   "execution_count": null,
   "metadata": {
    "collapsed": true
   },
   "outputs": [],
   "source": []
  },
  {
   "cell_type": "code",
   "execution_count": null,
   "metadata": {
    "collapsed": true
   },
   "outputs": [],
   "source": []
  }
 ],
 "metadata": {
  "kernelspec": {
   "display_name": "Python 3",
   "language": "python",
   "name": "python3"
  },
  "language_info": {
   "codemirror_mode": {
    "name": "ipython",
    "version": 3
   },
   "file_extension": ".py",
   "mimetype": "text/x-python",
   "name": "python",
   "nbconvert_exporter": "python",
   "pygments_lexer": "ipython3",
   "version": "3.6.0"
  }
 },
 "nbformat": 4,
 "nbformat_minor": 2
}
